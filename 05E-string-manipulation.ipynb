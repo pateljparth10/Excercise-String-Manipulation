{
 "cells": [
  {
   "cell_type": "markdown",
   "metadata": {
    "azdata_cell_guid": "894c32a1-1222-45fa-92c3-ac15753238ec"
   },
   "source": [
    "# Python Basics - String Manipulation - Exercise\n",
    "\n",
    "In the String Manipulation lesson, we worked with strings in Python. In this exercise, we want to see your understanding of string manipulation. We have provided some questions and guidance. Enter the code in the code cell below the question.\n",
    "\n",
    "## Upon Completion\n",
    "\n",
    "Save your work. If you have questions, reach out to your instructor.\n",
    "\n",
    "## Exercise"
   ]
  },
  {
   "cell_type": "markdown",
   "metadata": {
    "azdata_cell_guid": "67c3693b-d3ce-423a-b463-ec23f3675d45"
   },
   "source": [
    "1. Given a string, split the values into individual values."
   ]
  },
  {
   "cell_type": "code",
   "execution_count": 1,
   "metadata": {
    "azdata_cell_guid": "d175491a-eb0c-473a-8b90-1edeef1b4c24",
    "tags": []
   },
   "outputs": [
    {
     "name": "stdout",
     "output_type": "stream",
     "text": [
      "['John Glenn', 'Neil Armstrong', 'Sally Ride', 'Douglas Wheelock', 'Mae Jemison']\n"
     ]
    }
   ],
   "source": [
    "to_be_changed=\"John Glenn|Neil Armstrong|Sally Ride|Douglas Wheelock|Mae Jemison\"\n",
    "changed_values = to_be_changed.split('|')\n",
    "print(changed_values)"
   ]
  },
  {
   "cell_type": "markdown",
   "metadata": {
    "azdata_cell_guid": "141170c0-959b-42ae-88c8-8b36baf83213"
   },
   "source": [
    "2. We were given these lyrics to split for a karaoke machine.  Split the lyrics by line using `split()`.\n",
    "\n",
    "Source: [https://en.wikipedia.org/wiki/Take\\_Me\\_Out\\_to\\_the\\_Ball\\_Game](https://en.wikipedia.org/wiki/Take_Me_Out_to_the_Ball_Game) - lyrics originally from 1908 Tin Pan Alley"
   ]
  },
  {
   "cell_type": "code",
   "execution_count": 3,
   "metadata": {
    "azdata_cell_guid": "cecc752f-a069-4c8b-9edc-83086ef5aa62"
   },
   "outputs": [
    {
     "name": "stdout",
     "output_type": "stream",
     "text": [
      "['', 'Katie Casey was baseball mad,', 'Had the fever and had it bad.', 'Just to root for the home town crew,', \"Ev'ry sou\", 'Katie blew.', 'On a Saturday her young beau', \"Called to see if she'd like to go\", 'To see a show, but Miss Kate said \"No,', 'I\\'ll tell you what you can do:\"']\n"
     ]
    }
   ],
   "source": [
    "lyrics = \"\"\"\n",
    "Katie Casey was baseball mad,\n",
    "Had the fever and had it bad.\n",
    "Just to root for the home town crew,\n",
    "Ev'ry sou\n",
    "Katie blew.\n",
    "On a Saturday her young beau\n",
    "Called to see if she'd like to go\n",
    "To see a show, but Miss Kate said \"No,\n",
    "I'll tell you what you can do:\"\n",
    "\"\"\"\n",
    "lyrics_split = lyrics.splitlines()\n",
    "print(lyrics_split)"
   ]
  },
  {
   "cell_type": "markdown",
   "metadata": {
    "azdata_cell_guid": "b7c165fd-911d-4f52-b191-3fab1c69280e"
   },
   "source": [
    "3. We were given these lyrics to split for a karaoke machine.  Split the lyrics by line using something other than `split()`.\n",
    "\n",
    "Source: [https://en.wikipedia.org/wiki/Take\\_Me\\_Out\\_to\\_the\\_Ball\\_Game](https://en.wikipedia.org/wiki/Take_Me_Out_to_the_Ball_Game) - lyrics originally from 1908 Tin Pan Alley"
   ]
  },
  {
   "cell_type": "code",
   "execution_count": 4,
   "metadata": {
    "azdata_cell_guid": "1b37d7d3-7762-4445-b949-47d77e9181dd"
   },
   "outputs": [
    {
     "name": "stdout",
     "output_type": "stream",
     "text": [
      "['', 'Katie Casey was baseball mad,', 'Had the fever and had it bad.', 'Just to root for the home town crew,', \"Ev'ry sou\", 'Katie blew.', 'On a Saturday her young beau', \"Called to see if she'd like to go\", 'To see a show, but Miss Kate said \"No,', 'I\\'ll tell you what you can do:\"']\n"
     ]
    }
   ],
   "source": [
    "lyrics = \"\"\"\n",
    "Katie Casey was baseball mad,\n",
    "Had the fever and had it bad.\n",
    "Just to root for the home town crew,\n",
    "Ev'ry sou\n",
    "Katie blew.\n",
    "On a Saturday her young beau\n",
    "Called to see if she'd like to go\n",
    "To see a show, but Miss Kate said \"No,\n",
    "I'll tell you what you can do:\"\n",
    "\"\"\"\n",
    "changed_values = lyrics.splitlines()\n",
    "print(changed_values)"
   ]
  },
  {
   "cell_type": "markdown",
   "metadata": {
    "azdata_cell_guid": "5f14d81a-a7b1-4d6d-be5b-a812df9e94aa"
   },
   "source": [
    "4. How long is the long village name string?"
   ]
  },
  {
   "cell_type": "code",
   "execution_count": 6,
   "metadata": {
    "azdata_cell_guid": "53338238-c18a-4094-a858-9196259892c1"
   },
   "outputs": [
    {
     "name": "stdout",
     "output_type": "stream",
     "text": [
      "66\n"
     ]
    }
   ],
   "source": [
    "long_village_name = \"Llanfair­pwllgwyngyll­gogery­chwyrn­drobwll­llan­tysilio­gogo­goch\"\n",
    "string_length = long_village_name\n",
    "print(len(string_length))"
   ]
  },
  {
   "cell_type": "markdown",
   "metadata": {
    "azdata_cell_guid": "c13249c9-25ca-402a-b363-1131ea968537"
   },
   "source": [
    "4. We want all folders in this path without additional spaces.  How would you get that?"
   ]
  },
  {
   "cell_type": "code",
   "execution_count": 7,
   "metadata": {
    "azdata_cell_guid": "9fdcebab-e125-4e3a-b54c-ced36e8e71ee"
   },
   "outputs": [
    {
     "name": "stdout",
     "output_type": "stream",
     "text": [
      "/c/Users/instructor/Downloads/Submit Relating the Nonrelational Assessment Download May 10, 2021 917 AM\n"
     ]
    }
   ],
   "source": [
    "my_path = '   /c/Users/instructor/Downloads/Submit Relating the Nonrelational Assessment Download May 10, 2021 917 AM          '\n",
    "my_folders = my_path.strip()\n",
    "print(my_folders)"
   ]
  },
  {
   "cell_type": "markdown",
   "metadata": {
    "azdata_cell_guid": "7628a504-eac5-4533-a9d1-f1f4be7afe1d"
   },
   "source": [
    "5. Given this list of names, change the third name in the list to be \"Wolfgang Mozart\"."
   ]
  },
  {
   "cell_type": "code",
   "execution_count": 19,
   "metadata": {
    "azdata_cell_guid": "7a8f97b9-cd9c-4d03-bbc5-42590af4d0af"
   },
   "outputs": [
    {
     "name": "stdout",
     "output_type": "stream",
     "text": [
      "Wolfgang Mozart\n"
     ]
    }
   ],
   "source": [
    "composers=\"Beethoven,Ludwig von;Liszt,Franz;Mozart,Wolfgang;Copland,Aaron\"\n",
    "# Separate the composers\n",
    "composers_split = composers.split(\";\")\n",
    "# Get the third composer\n",
    "third_composer = composers_split[2]\n",
    "# Find the comma in the name\n",
    "comma_position = third_composer.index(\",\")\n",
    "# Use the slicing notation to get the last name\n",
    "last_name = third_composer[0: comma_position]\n",
    "# Use the slicing notation to get the first name\n",
    "first_name = third_composer[comma_position +1 : len(third_composer)]\n",
    "# Join the names to get the 3rd composer's name in \"first last\" format\n",
    "third_composer_name = first_name + \" \"+ last_name\n",
    "# Print the composer's name\n",
    "print(third_composer_name)"
   ]
  },
  {
   "cell_type": "markdown",
   "metadata": {
    "azdata_cell_guid": "96699102-fb13-4653-b5ab-ab4426724369"
   },
   "source": [
    "6. Given a right padded string and a left padded string, clean the strings to get the output of \"Call now! Operators are standing by\"\n",
    "\n",
    "Hint: You will need to include the `!` when putting the strings together."
   ]
  },
  {
   "cell_type": "code",
   "execution_count": 12,
   "metadata": {
    "azdata_cell_guid": "0565147e-81de-4067-8084-156955d6df74"
   },
   "outputs": [
    {
     "name": "stdout",
     "output_type": "stream",
     "text": [
      "Call now! Operators are standing by\n"
     ]
    }
   ],
   "source": [
    "left_padded = '                 Operators are standing by'\n",
    "right_padded = 'Call now                   '\n",
    "print(right_padded.strip() + \"! \" + left_padded.strip())"
   ]
  },
  {
   "cell_type": "markdown",
   "metadata": {
    "azdata_cell_guid": "4c646223-07f3-48af-8c85-4127a71b23c0"
   },
   "source": [
    "7. Given the student name, grade, and assignment ID, using old style formating, print out the following:\n",
    "\n",
    "```\n",
    "'Student name: Owen, Assignment ID: 0012, Grade: 94.75%'\n",
    "```\n",
    "\n",
    "Hint: to get the % to appear in the output, you will need to use `%%` to represent the percentage sign in an old style substitution string."
   ]
  },
  {
   "cell_type": "code",
   "execution_count": 2,
   "metadata": {
    "azdata_cell_guid": "146c3f8a-3359-4ef8-b67a-0ff8a5ace492"
   },
   "outputs": [
    {
     "name": "stdout",
     "output_type": "stream",
     "text": [
      "'Student name: Owen, Assignment ID: 0012, Grade: 94.75% \n"
     ]
    }
   ],
   "source": [
    "student_name = \"Owen\"\n",
    "grade = 94.75\n",
    "assignment_number = 12\n",
    "print(\"'Student name: %s, Assignment ID: %s, Grade: %s \" % ('Owen','0012','94.75%'))"
   ]
  },
  {
   "cell_type": "markdown",
   "metadata": {
    "azdata_cell_guid": "8b7d8660-4901-4d47-a2ac-6cf7f2855a68"
   },
   "source": [
    "8. Given the employee ID of \"30\", pad the string with zeroes on the left to have the employee ID appear as 6-digits \"000030\"."
   ]
  },
  {
   "cell_type": "code",
   "execution_count": 5,
   "metadata": {
    "azdata_cell_guid": "1263620c-0c9c-4b0c-9f80-076e082854dd",
    "tags": []
   },
   "outputs": [
    {
     "name": "stdout",
     "output_type": "stream",
     "text": [
      "000030\n"
     ]
    }
   ],
   "source": [
    "employee_id = \"30\"\n",
    "employee_id_padded = employee_id.zfill(6)\n",
    "print(employee_id_padded)"
   ]
  },
  {
   "cell_type": "markdown",
   "metadata": {
    "azdata_cell_guid": "066cc84e-8d01-4578-9ab5-e3e040a34c7b"
   },
   "source": [
    "9. Print the following statement using raw strings:\n",
    "\n",
    "```\n",
    "\\n represents a new line.\n",
    "```"
   ]
  },
  {
   "cell_type": "code",
   "execution_count": 10,
   "metadata": {
    "azdata_cell_guid": "cc07e37c-992d-4a96-b9e3-5af7ff7e0be3"
   },
   "outputs": [
    {
     "name": "stdout",
     "output_type": "stream",
     "text": [
      "\\n represents a new line.\n"
     ]
    }
   ],
   "source": [
    "print(\"\\\\n represents a new line.\")"
   ]
  },
  {
   "cell_type": "markdown",
   "metadata": {
    "azdata_cell_guid": "33e2c725-f0e8-4a34-89be-f013bcf9b984"
   },
   "source": [
    "10. Convert the following strings based on their variable names."
   ]
  },
  {
   "cell_type": "code",
   "execution_count": 9,
   "metadata": {
    "azdata_cell_guid": "be28d9b0-e158-4565-85f9-4693ca98d08b"
   },
   "outputs": [
    {
     "name": "stdout",
     "output_type": "stream",
     "text": [
      "YEAH\n",
      "shhhhh\n",
      "This Is A Title\n",
      "SwapCase\n",
      "Capitalize this\n"
     ]
    }
   ],
   "source": [
    "i_want_to_yell = 'yeah'\n",
    "I_NEED_TO_BE_QUIET = 'SHHHHH'\n",
    "this_is_a_title = 'this is a title'\n",
    "sWAPcASE = 'sWAPcASE'\n",
    "capitalize_this = 'capitalize this'\n",
    "\n",
    "# Use print and a function to achieve what the variable names suggest\n",
    "print(i_want_to_yell.upper())\n",
    "print(I_NEED_TO_BE_QUIET.lower())\n",
    "print(this_is_a_title.title())\n",
    "print(sWAPcASE.swapcase())\n",
    "print(capitalize_this.capitalize())"
   ]
  }
 ],
 "metadata": {
  "kernelspec": {
   "display_name": "Python 3 (ipykernel)",
   "language": "python",
   "name": "python3"
  },
  "language_info": {
   "codemirror_mode": {
    "name": "ipython",
    "version": 3
   },
   "file_extension": ".py",
   "mimetype": "text/x-python",
   "name": "python",
   "nbconvert_exporter": "python",
   "pygments_lexer": "ipython3",
   "version": "3.8.5"
  }
 },
 "nbformat": 4,
 "nbformat_minor": 2
}
